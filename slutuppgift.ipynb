{
 "metadata": {
  "language_info": {
   "codemirror_mode": {
    "name": "ipython",
    "version": 3
   },
   "file_extension": ".py",
   "mimetype": "text/x-python",
   "name": "python",
   "nbconvert_exporter": "python",
   "pygments_lexer": "ipython3",
   "version": "3.8.3"
  },
  "orig_nbformat": 2,
  "kernelspec": {
   "name": "python383jvsc74a57bd0006a761dfdd3377fd678190bcbaa5cc18048ffb93548205824df5e9f5fedbacd",
   "display_name": "Python 3.8.3 64-bit (conda)"
  }
 },
 "nbformat": 4,
 "nbformat_minor": 2,
 "cells": [
  {
   "cell_type": "code",
   "execution_count": 52,
   "metadata": {},
   "outputs": [
    {
     "output_type": "stream",
     "name": "stdout",
     "text": [
      " döda 0-9: 7\n döda 10-19: 3\n döda 20-29: 15\n döda 30-39: 33\n döda 40-49: 81\n döda 50-59: 261\n döda 60-69: 721\n döda 70-79: 2605\n döda 80-89: 5239\n döda 90+: 3463\nfall 0-9: 9127\nfall 10-19: 62180\nfall 20-29: 107936\nfall 30-39: 107508\nfall 40-49: 109903\nfall 50-59: 101188\nfall 60-69: 53511\nfall 70-79: 26476\nfall 80-89: 20538\nfall 90+: 9980\n"
     ]
    }
   ],
   "source": [
    "import pandas as pd #importat pandas så man kan använda dess funktioner för att jobba med statistik\n",
    "\n",
    "import numpy as np\n",
    "\n",
    "DBAG = pd.read_csv(\"deathbyagegroup.csv\",) #Läser in filen deathbyagegroup så man kan jobba med den\n",
    "GD = pd.read_csv(\"Gender_Data.csv\") #läser in filen gender_data så man kan jobba med den.\n",
    "\n",
    "Åldersgrupper = [\"0-9\", \"10-19\", \"20-29\", \"30-39\", \"40-49\", \"50-59\", \"60-69\", \"70-79\", \"80-89\", \"90+\"] \n",
    "\n",
    "\n",
    "for x in Åldersgrupper:\n",
    "    DBAGgrupper = DBAG[DBAG[\"Age_Group\"] == x]   \n",
    "    dfsm = DBAGgrupper.sum()\n",
    "    Döda = dfsm[\"Total_Deaths\"]\n",
    "    print(f\" döda {x}: {Döda}\")\n",
    "    \n",
    "for x in Åldersgrupper:\n",
    "    DBAGgrupper = DBAG[DBAG[\"Age_Group\"] == x]   \n",
    "    dfsm = DBAGgrupper.sum()\n",
    "    Fall = dfsm[\"Total_Cases\"]\n",
    "    print(F\"fall {x}: {Fall}\")\n",
    "    \n",
    "\n"
   ]
  },
  {
   "cell_type": "code",
   "execution_count": null,
   "metadata": {},
   "outputs": [],
   "source": []
  }
 ]
}